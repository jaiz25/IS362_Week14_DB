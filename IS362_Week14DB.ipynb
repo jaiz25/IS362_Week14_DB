{
 "cells": [
  {
   "cell_type": "markdown",
   "metadata": {},
   "source": [
    "#  IS 362 Week 14 Discussion: Recommender Systems\n",
    "\n",
    "Your task is to analyze an existing recommender system that you find interesting.  You should:\n",
    "\n",
    "Perform a Scenario Design analysis as described below.  Consider whether it makes sense for your selected recommender system to perform scenario design twice, once for the organization (e.g. Amazon.com) and once for the organization's customers.\n",
    "\n",
    "Attempt to reverse engineer what you can about the site, from the site interface and any available information that you can find on the Internet or elsewhere.\n",
    "\n",
    "Include specific recommendations about how to improve the site's recommendation capabilities going forward. "
   ]
  },
  {
   "cell_type": "markdown",
   "metadata": {},
   "source": [
    "![title](https://racingnews.co/wp-content/uploads/2017/06/Hulu-Logo-NASCAR-Sponsorship-380x380.jpg)\n",
    "\n",
    "Hulu is an American subscription video on demand service owned by Hulu LLC, a joint venture with The Walt Disney Company, 21st Century Fox, Comcast, and Time Warner.  It is primarily oriented towards instant streaming of television series, carrying current and past episodes of many series from its owners' respective television networks and other content partners."
   ]
  },
  {
   "cell_type": "markdown",
   "metadata": {},
   "source": [
    "### Who are their target users?\n",
    "\n",
    "Hulu's target users are the its subscribers; currently 20 million users.  "
   ]
  },
  {
   "cell_type": "markdown",
   "metadata": {},
   "source": [
    "### What are their key goals?\n",
    "\n",
    "Hulu's key goal is to provide television series and movies to its users that they would enjoy."
   ]
  },
  {
   "cell_type": "markdown",
   "metadata": {},
   "source": [
    "### How can you help them accomplish these goals?\n",
    "\n",
    "Video streaming services like Hulu depend heavily on the video recommender system to help its users discover videos they would enjoy.  Existing recommendation systems compute the video relevance based on users' implicit feedback such as watch and search behaviors.  The system analyzes the user-to-video preference and computes the video-to-video relevance scores using traditional collaborative filtering based methods.  However, when a new video is added to the library, this kind of method performs poorly.  To solve this, one promising approach is exploiting video content for relevance prediction, for example, predicting the video relevance by analyzing the content of videos including image pixels, audios, subtitles and metadata.\n",
    "\n",
    "![title](https://cdn-images-1.medium.com/max/2000/1*n5yDCuSdn9k7B-NpiDSyEQ.png)"
   ]
  },
  {
   "cell_type": "markdown",
   "metadata": {},
   "source": [
    "## Conclusion\n",
    "\n",
    "Building a recommendation system is a common task that is faced by the likes of Hulu. The underlying goal of the recommendation system is to personalize content and identify relevant data for its users.  It could either be a collaborative filtering or content-based filtering.  Hybrid approaches also exists which combines both filtering and is increasing the efficiency of recommender systems."
   ]
  }
 ],
 "metadata": {
  "kernelspec": {
   "display_name": "Python 3",
   "language": "python",
   "name": "python3"
  },
  "language_info": {
   "codemirror_mode": {
    "name": "ipython",
    "version": 3
   },
   "file_extension": ".py",
   "mimetype": "text/x-python",
   "name": "python",
   "nbconvert_exporter": "python",
   "pygments_lexer": "ipython3",
   "version": "3.6.3"
  }
 },
 "nbformat": 4,
 "nbformat_minor": 2
}
